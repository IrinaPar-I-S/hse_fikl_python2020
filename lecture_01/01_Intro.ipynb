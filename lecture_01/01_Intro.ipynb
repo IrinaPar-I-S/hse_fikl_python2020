{
 "cells": [
  {
   "cell_type": "markdown",
   "metadata": {
    "slideshow": {
     "slide_type": "slide"
    }
   },
   "source": [
    "# Программирование на Python \n",
    "\n",
    "(1 - 4 модули)"
   ]
  },
  {
   "cell_type": "markdown",
   "metadata": {
    "slideshow": {
     "slide_type": "fragment"
    }
   },
   "source": [
    "**Преподаватель:** Никишина Ирина Александровна (https://vk.com/lilas_pourpre) (Ира)\n",
    "\n",
    "**Ассистент:** Такташева Екатерина (https://vk.com/tak_ty)"
   ]
  },
  {
   "cell_type": "markdown",
   "metadata": {
    "slideshow": {
     "slide_type": "fragment"
    }
   },
   "source": [
    "**Формула оценки:**\n",
    "\n",
    "Домашние задания + Проект + Экзамен"
   ]
  },
  {
   "cell_type": "markdown",
   "metadata": {
    "slideshow": {
     "slide_type": "fragment"
    }
   },
   "source": [
    "**Канал связи:** vk? telegram?"
   ]
  },
  {
   "cell_type": "markdown",
   "metadata": {
    "slideshow": {
     "slide_type": "slide"
    }
   },
   "source": [
    "#### Давайте узнаем, что вы знаете о Python уже сейчас (уверяю вас, уже достаточно): https://kahoot.it/"
   ]
  },
  {
   "cell_type": "markdown",
   "metadata": {
    "slideshow": {
     "slide_type": "subslide"
    }
   },
   "source": [
    "![](img/Guido.jpg)\n",
    "\n",
    "                                     Гвидо ван Россум - автор языка программирования Python"
   ]
  },
  {
   "cell_type": "markdown",
   "metadata": {
    "slideshow": {
     "slide_type": "subslide"
    }
   },
   "source": [
    "![image of python versions](img/2vs3.jpg)"
   ]
  },
  {
   "cell_type": "markdown",
   "metadata": {
    "slideshow": {
     "slide_type": "subslide"
    }
   },
   "source": [
    "Версии 3.6.x, 3.7.x (достаточно новые, но при этом не супер новейшие с прошлой недели)\n",
    "\n",
    "А что у меня?"
   ]
  },
  {
   "cell_type": "code",
   "execution_count": 1,
   "metadata": {
    "slideshow": {
     "slide_type": "fragment"
    }
   },
   "outputs": [
    {
     "name": "stdout",
     "output_type": "stream",
     "text": [
      "Python 3.6.6\n"
     ]
    }
   ],
   "source": [
    "!python -V"
   ]
  },
  {
   "cell_type": "markdown",
   "metadata": {
    "slideshow": {
     "slide_type": "slide"
    }
   },
   "source": [
    "### Установка Python\n",
    "Обращайте внимание на версию питона! Мы пишем на Python 3, предпочтительно версии 3.5 и новее.\n",
    "\n",
    "##### Windows\n",
    "https://www.python.org/downloads/ — простой путь\n",
    "\n",
    "##### macOS\n",
    "https://www.python.org/downloads/ — простой путь\n",
    "\n",
    "https://brew.sh/ — установка через менеджер пакетов Homebrew, требует использования командной строки. После установки самого Homebrew выполните brew install python\n"
   ]
  },
  {
   "cell_type": "markdown",
   "metadata": {
    "slideshow": {
     "slide_type": "subslide"
    }
   },
   "source": [
    "##### Linux\n",
    "Если вы используете современный популярный дистрибутив, то, скорее всего, у вас уже есть Python 3. Проверьте версию python3 --version\n",
    "\n",
    "##### iOS\n",
    "Pythonista — платное приложение (749₽) с полнофункциональным Python 3, но с ограниченной поддержкой сторонних модулей\n",
    "\n",
    "##### Android\n",
    "Pydroid 3 — приложение с полнофункциональным Python 3 (но с рекламой). Требует Android 4.4"
   ]
  },
  {
   "cell_type": "markdown",
   "metadata": {
    "slideshow": {
     "slide_type": "slide"
    }
   },
   "source": [
    "### Альтернативная установка:\n",
    "    \n",
    "##### Anaconda\n",
    "\n",
    "![anaconda](img/anaconda.jpg)\n",
    "\n",
    "                                             (да-да, это тот самый логотип из теста)\n",
    "\n"
   ]
  },
  {
   "cell_type": "markdown",
   "metadata": {
    "slideshow": {
     "slide_type": "subslide"
    }
   },
   "source": [
    "##### Windows\n",
    "\n",
    "https://docs.anaconda.com/anaconda/install/windows/\n",
    "\n",
    "##### macOS\n",
    "\n",
    "https://docs.anaconda.com/anaconda/install/mac-os/\n",
    "\n",
    "##### Linux\n",
    "\n",
    "https://docs.anaconda.com/anaconda/install/linux/"
   ]
  },
  {
   "cell_type": "markdown",
   "metadata": {
    "slideshow": {
     "slide_type": "slide"
    }
   },
   "source": [
    "### Основы Python"
   ]
  },
  {
   "cell_type": "markdown",
   "metadata": {
    "slideshow": {
     "slide_type": "fragment"
    }
   },
   "source": [
    "Все действия этого раздела выполняйте прямо в интерпретаторе Python, используя idle или набрав python3 в терминале (выйти можно командой exit())."
   ]
  },
  {
   "cell_type": "markdown",
   "metadata": {
    "slideshow": {
     "slide_type": "slide"
    }
   },
   "source": [
    "![милая картинка](img/lol.jpg)"
   ]
  },
  {
   "cell_type": "markdown",
   "metadata": {
    "slideshow": {
     "slide_type": "slide"
    }
   },
   "source": [
    "### Математические операции\n",
    "\n",
    "Базовые математические операции в Python делаются очень просто."
   ]
  },
  {
   "cell_type": "code",
   "execution_count": 2,
   "metadata": {
    "slideshow": {
     "slide_type": "fragment"
    }
   },
   "outputs": [
    {
     "name": "stdout",
     "output_type": "stream",
     "text": [
      "6\n",
      "1\n",
      "9\n",
      "4.0\n",
      "27\n",
      "6\n"
     ]
    }
   ],
   "source": [
    "print(3+3)\n",
    "print(3-2)\n",
    "print(3*3)\n",
    "print(16/4)\n",
    "print(3**3)\n",
    "print(2+2*2)"
   ]
  },
  {
   "cell_type": "markdown",
   "metadata": {
    "slideshow": {
     "slide_type": "subslide"
    }
   },
   "source": [
    "_#TODO: Какой будет результат следующих вычислений?_"
   ]
  },
  {
   "cell_type": "code",
   "execution_count": null,
   "metadata": {
    "slideshow": {
     "slide_type": "fragment"
    }
   },
   "outputs": [],
   "source": [
    "# Обратите внимание, что здесь первая строка начинается с #. \n",
    "# Такие строки не исполняются интерпретатором и называются комментариями.\n",
    "((6 - 7) * 2 + 3 * 5) / 2"
   ]
  },
  {
   "cell_type": "code",
   "execution_count": 4,
   "metadata": {
    "slideshow": {
     "slide_type": "fragment"
    }
   },
   "outputs": [
    {
     "data": {
      "text/plain": [
       "6.5"
      ]
     },
     "execution_count": 4,
     "metadata": {},
     "output_type": "execute_result"
    }
   ],
   "source": [
    "# Обратите внимание, что здесь первая строка начинается с #. \n",
    "# Такие строки не исполняются интерпретатором и называются комментариями.\n",
    "((6 - 7) * 2 + 3 * 5) / 2"
   ]
  },
  {
   "cell_type": "markdown",
   "metadata": {
    "slideshow": {
     "slide_type": "subslide"
    }
   },
   "source": [
    "До этого мы работали с целыми числами, пора перейти к десятичным дробным числам. Дробный разделитель в Python стандартен для англоязычного мира — это точка."
   ]
  },
  {
   "cell_type": "code",
   "execution_count": 5,
   "metadata": {
    "slideshow": {
     "slide_type": "fragment"
    }
   },
   "outputs": [
    {
     "data": {
      "text/plain": [
       "5.421600000000001"
      ]
     },
     "execution_count": 5,
     "metadata": {},
     "output_type": "execute_result"
    }
   ],
   "source": [
    "1.004 * 5.4"
   ]
  },
  {
   "cell_type": "code",
   "execution_count": 6,
   "metadata": {
    "slideshow": {
     "slide_type": "fragment"
    }
   },
   "outputs": [
    {
     "name": "stdout",
     "output_type": "stream",
     "text": [
      "<class 'int'> <class 'float'>\n"
     ]
    }
   ],
   "source": [
    "print(type(14), type(14.0))"
   ]
  },
  {
   "cell_type": "markdown",
   "metadata": {
    "slideshow": {
     "slide_type": "subslide"
    }
   },
   "source": [
    "Как мы видим, это два разных типа числа. \n",
    "\n",
    "_#TODO: Как вы думаете, какой типа числа будет при сложении:_"
   ]
  },
  {
   "cell_type": "code",
   "execution_count": null,
   "metadata": {
    "slideshow": {
     "slide_type": "fragment"
    }
   },
   "outputs": [],
   "source": [
    "type(3 + 3)"
   ]
  },
  {
   "cell_type": "code",
   "execution_count": 8,
   "metadata": {
    "slideshow": {
     "slide_type": "fragment"
    }
   },
   "outputs": [
    {
     "data": {
      "text/plain": [
       "int"
      ]
     },
     "execution_count": 8,
     "metadata": {},
     "output_type": "execute_result"
    }
   ],
   "source": [
    "type(3 + 3)"
   ]
  },
  {
   "cell_type": "code",
   "execution_count": null,
   "metadata": {
    "slideshow": {
     "slide_type": "fragment"
    }
   },
   "outputs": [],
   "source": [
    "type(3 + 3.5)"
   ]
  },
  {
   "cell_type": "code",
   "execution_count": 10,
   "metadata": {
    "slideshow": {
     "slide_type": "fragment"
    }
   },
   "outputs": [
    {
     "data": {
      "text/plain": [
       "float"
      ]
     },
     "execution_count": 10,
     "metadata": {},
     "output_type": "execute_result"
    }
   ],
   "source": [
    "type(3 + 3.5)"
   ]
  },
  {
   "cell_type": "code",
   "execution_count": null,
   "metadata": {
    "slideshow": {
     "slide_type": "subslide"
    }
   },
   "outputs": [],
   "source": [
    "type(3.0 + 3.5)"
   ]
  },
  {
   "cell_type": "code",
   "execution_count": 12,
   "metadata": {
    "slideshow": {
     "slide_type": "fragment"
    }
   },
   "outputs": [
    {
     "data": {
      "text/plain": [
       "float"
      ]
     },
     "execution_count": 12,
     "metadata": {},
     "output_type": "execute_result"
    }
   ],
   "source": [
    "type(3.0 + 3.5)"
   ]
  },
  {
   "cell_type": "code",
   "execution_count": null,
   "metadata": {
    "slideshow": {
     "slide_type": "fragment"
    }
   },
   "outputs": [],
   "source": [
    "type(12.4 / 3.1)"
   ]
  },
  {
   "cell_type": "code",
   "execution_count": 35,
   "metadata": {
    "slideshow": {
     "slide_type": "fragment"
    }
   },
   "outputs": [
    {
     "data": {
      "text/plain": [
       "float"
      ]
     },
     "execution_count": 35,
     "metadata": {},
     "output_type": "execute_result"
    }
   ],
   "source": [
    "type(12.4 / 3.1)"
   ]
  },
  {
   "cell_type": "code",
   "execution_count": null,
   "metadata": {
    "slideshow": {
     "slide_type": "subslide"
    }
   },
   "outputs": [],
   "source": [
    "type(12 / 3)"
   ]
  },
  {
   "cell_type": "code",
   "execution_count": 36,
   "metadata": {
    "slideshow": {
     "slide_type": "fragment"
    }
   },
   "outputs": [
    {
     "data": {
      "text/plain": [
       "float"
      ]
     },
     "execution_count": 36,
     "metadata": {},
     "output_type": "execute_result"
    }
   ],
   "source": [
    "type(12 / 3)"
   ]
  },
  {
   "cell_type": "markdown",
   "metadata": {
    "slideshow": {
     "slide_type": "subslide"
    }
   },
   "source": [
    "А что за тип данных у строки?"
   ]
  },
  {
   "cell_type": "code",
   "execution_count": 63,
   "metadata": {
    "slideshow": {
     "slide_type": "fragment"
    }
   },
   "outputs": [
    {
     "data": {
      "text/plain": [
       "str"
      ]
     },
     "execution_count": 63,
     "metadata": {},
     "output_type": "execute_result"
    }
   ],
   "source": [
    "type(\"Hello\")"
   ]
  },
  {
   "cell_type": "markdown",
   "metadata": {
    "slideshow": {
     "slide_type": "slide"
    }
   },
   "source": [
    "_#TODO: Как вы думаете, что означают операторы // и % в коде ниже?_"
   ]
  },
  {
   "cell_type": "code",
   "execution_count": 13,
   "metadata": {
    "slideshow": {
     "slide_type": "fragment"
    }
   },
   "outputs": [
    {
     "data": {
      "text/plain": [
       "3"
      ]
     },
     "execution_count": 13,
     "metadata": {},
     "output_type": "execute_result"
    }
   ],
   "source": [
    "10 // 3"
   ]
  },
  {
   "cell_type": "code",
   "execution_count": 14,
   "metadata": {
    "slideshow": {
     "slide_type": "fragment"
    }
   },
   "outputs": [
    {
     "data": {
      "text/plain": [
       "1"
      ]
     },
     "execution_count": 14,
     "metadata": {},
     "output_type": "execute_result"
    }
   ],
   "source": [
    "10 % 3"
   ]
  },
  {
   "cell_type": "markdown",
   "metadata": {
    "slideshow": {
     "slide_type": "fragment"
    }
   },
   "source": [
    "// - целая часть от деления\n",
    "\n",
    "% - остаток от деления"
   ]
  },
  {
   "cell_type": "markdown",
   "metadata": {
    "slideshow": {
     "slide_type": "slide"
    }
   },
   "source": [
    "Фантастической чертой языка python является способность (вопреки математическому определению) искать остаток от деления и для не целых чисел."
   ]
  },
  {
   "cell_type": "code",
   "execution_count": 22,
   "metadata": {
    "slideshow": {
     "slide_type": "fragment"
    }
   },
   "outputs": [
    {
     "name": "stdout",
     "output_type": "stream",
     "text": [
      "1 1.0 1.2000000000000002\n"
     ]
    }
   ],
   "source": [
    "print(7%3, 7.0%3, 7.2%3)"
   ]
  },
  {
   "cell_type": "markdown",
   "metadata": {
    "slideshow": {
     "slide_type": "slide"
    }
   },
   "source": [
    "Много других, более сложных, математических операций находится в библиотеке <b>'math'<b>"
   ]
  },
  {
   "cell_type": "code",
   "execution_count": 23,
   "metadata": {
    "slideshow": {
     "slide_type": "subslide"
    }
   },
   "outputs": [
    {
     "name": "stdout",
     "output_type": "stream",
     "text": [
      "0.1411200080598672 -0.9899924966004454\n",
      "0.9999999999999999\n"
     ]
    }
   ],
   "source": [
    "import math\n",
    "\n",
    "print(math.sin(3.0), math.cos(3.0))\n",
    "print(math.sin(3.0)**2 + math.cos(3.0)**2)"
   ]
  },
  {
   "cell_type": "code",
   "execution_count": 24,
   "metadata": {
    "slideshow": {
     "slide_type": "subslide"
    }
   },
   "outputs": [
    {
     "name": "stdout",
     "output_type": "stream",
     "text": [
      "-1.0\n"
     ]
    }
   ],
   "source": [
    "print(math.cos(math.pi))"
   ]
  },
  {
   "cell_type": "code",
   "execution_count": 25,
   "metadata": {
    "slideshow": {
     "slide_type": "subslide"
    }
   },
   "outputs": [
    {
     "name": "stdout",
     "output_type": "stream",
     "text": [
      "16.0\n",
      "4.0 4.0 4.0\n"
     ]
    }
   ],
   "source": [
    "print(math.pow(2,4))\n",
    "print(math.pow(16, 0.5), 16**0.5, math.sqrt(16))"
   ]
  },
  {
   "cell_type": "code",
   "execution_count": 26,
   "metadata": {
    "slideshow": {
     "slide_type": "subslide"
    }
   },
   "outputs": [
    {
     "name": "stdout",
     "output_type": "stream",
     "text": [
      "265252859812191058636308480000000\n"
     ]
    }
   ],
   "source": [
    "print(math.factorial(30))"
   ]
  },
  {
   "cell_type": "markdown",
   "metadata": {
    "slideshow": {
     "slide_type": "fragment"
    }
   },
   "source": [
    "Это не все существующие операции библиотеки, их можно и нужно гуглить)"
   ]
  },
  {
   "cell_type": "markdown",
   "metadata": {
    "slideshow": {
     "slide_type": "slide"
    }
   },
   "source": [
    "### Стандартный вывод"
   ]
  },
  {
   "cell_type": "code",
   "execution_count": 4,
   "metadata": {
    "slideshow": {
     "slide_type": "fragment"
    }
   },
   "outputs": [
    {
     "name": "stdout",
     "output_type": "stream",
     "text": [
      "Hello world!\n"
     ]
    }
   ],
   "source": [
    "print(\"Hello world!\")"
   ]
  },
  {
   "cell_type": "code",
   "execution_count": 15,
   "metadata": {
    "slideshow": {
     "slide_type": "fragment"
    }
   },
   "outputs": [
    {
     "data": {
      "text/plain": [
       "'Hello world!'"
      ]
     },
     "execution_count": 15,
     "metadata": {},
     "output_type": "execute_result"
    }
   ],
   "source": [
    "\"Hello world!\""
   ]
  },
  {
   "cell_type": "markdown",
   "metadata": {
    "slideshow": {
     "slide_type": "slide"
    }
   },
   "source": [
    "Заметим, что в idle, терминале и jupyter notebook (где я сейчас и с ним мы познакомимся поближе позже) между командой print() и просто набором текста / математических операций нет разницы: и то, и другое выдает нам то, что мы хотим. Или все-таки нет?"
   ]
  },
  {
   "cell_type": "code",
   "execution_count": 28,
   "metadata": {
    "slideshow": {
     "slide_type": "fragment"
    }
   },
   "outputs": [
    {
     "name": "stdout",
     "output_type": "stream",
     "text": [
      "First string\n",
      "Third string\n"
     ]
    }
   ],
   "source": [
    "print(\"First string\")\n",
    "'Second string'\n",
    "print('Third string')"
   ]
  },
  {
   "cell_type": "markdown",
   "metadata": {
    "slideshow": {
     "slide_type": "subslide"
    }
   },
   "source": [
    "То же самое произойдет если мы создадим файл arithmetic.py со таким же содержимым и выполним его:"
   ]
  },
  {
   "cell_type": "markdown",
   "metadata": {
    "slideshow": {
     "slide_type": "fragment"
    }
   },
   "source": [
    "![пример скрипта](img/print_string.jpg)"
   ]
  },
  {
   "cell_type": "markdown",
   "metadata": {
    "slideshow": {
     "slide_type": "subslide"
    }
   },
   "source": [
    "Такие файлы называются скриптами... Тут должен быть текст: \"Для того, чтобы сохранить результат нашего программистского труда, понадобиться создать файл сценария\". Но на самом деле, много программисты используют для этого Jupyter Notebook или не только один файл, а огромные проекты, а не сохраняют все в один файл.\n",
    "\n",
    "Но это уже совсем другая история.\n",
    "\n",
    "Пока создаете файл, помните, никаких русских букв и пробелов!\n",
    "\n",
    "Запускаем наш скрипт командой:\n",
    "\n",
    "```\n",
    "python3 print_string.py\n",
    "```"
   ]
  },
  {
   "cell_type": "markdown",
   "metadata": {
    "slideshow": {
     "slide_type": "fragment"
    }
   },
   "source": [
    "![](img/cmd_print_string.jpg)"
   ]
  },
  {
   "cell_type": "markdown",
   "metadata": {
    "slideshow": {
     "slide_type": "slide"
    }
   },
   "source": [
    "#### Еще немного о стандартном выводе"
   ]
  },
  {
   "cell_type": "markdown",
   "metadata": {
    "slideshow": {
     "slide_type": "fragment"
    }
   },
   "source": [
    "Если выводом является строка, то для строк существует операция \"конкатенация\" (сложение строк, от англ. \"concatenate\")"
   ]
  },
  {
   "cell_type": "code",
   "execution_count": null,
   "metadata": {
    "slideshow": {
     "slide_type": "fragment"
    }
   },
   "outputs": [],
   "source": [
    "print('Hello ' + 'world!')\n",
    "print(\"Hello \" + \"world!\")\n",
    "print(\"Hello \" + 'world!')"
   ]
  },
  {
   "cell_type": "markdown",
   "metadata": {
    "slideshow": {
     "slide_type": "fragment"
    }
   },
   "source": [
    "_Чем отличаются эти строки?_"
   ]
  },
  {
   "cell_type": "markdown",
   "metadata": {
    "slideshow": {
     "slide_type": "slide"
    }
   },
   "source": [
    "Но что делать, если вывод является не строкой? Как тогда конкатенировать?"
   ]
  },
  {
   "cell_type": "code",
   "execution_count": 43,
   "metadata": {
    "slideshow": {
     "slide_type": "subslide"
    }
   },
   "outputs": [
    {
     "ename": "TypeError",
     "evalue": "must be str, not int",
     "output_type": "error",
     "traceback": [
      "\u001b[1;31m---------------------------------------------------------------------------\u001b[0m",
      "\u001b[1;31mTypeError\u001b[0m                                 Traceback (most recent call last)",
      "\u001b[1;32m<ipython-input-43-3be4a8575419>\u001b[0m in \u001b[0;36m<module>\u001b[1;34m\u001b[0m\n\u001b[1;32m----> 1\u001b[1;33m \u001b[0mprint\u001b[0m\u001b[1;33m(\u001b[0m\u001b[1;34m'Answer is'\u001b[0m \u001b[1;33m+\u001b[0m \u001b[1;36m1\u001b[0m\u001b[1;33m)\u001b[0m\u001b[1;33m\u001b[0m\u001b[0m\n\u001b[0m",
      "\u001b[1;31mTypeError\u001b[0m: must be str, not int"
     ]
    }
   ],
   "source": [
    "print('Answer is' + 1)"
   ]
  },
  {
   "cell_type": "markdown",
   "metadata": {
    "slideshow": {
     "slide_type": "fragment"
    }
   },
   "source": [
    "Функция \"print\" может принимать несколько аргументов, написанных через запятую"
   ]
  },
  {
   "cell_type": "code",
   "execution_count": 42,
   "metadata": {
    "slideshow": {
     "slide_type": "fragment"
    }
   },
   "outputs": [
    {
     "name": "stdout",
     "output_type": "stream",
     "text": [
      "Answer is 1\n"
     ]
    }
   ],
   "source": [
    "print('Answer is', 1)"
   ]
  },
  {
   "cell_type": "markdown",
   "metadata": {
    "slideshow": {
     "slide_type": "slide"
    }
   },
   "source": [
    "### Переменные"
   ]
  },
  {
   "cell_type": "markdown",
   "metadata": {
    "slideshow": {
     "slide_type": "fragment"
    }
   },
   "source": [
    "Может сложиться впечатление, что язык программирования -- это такой \"очень продвинутый калькулятор\".\n",
    "\n",
    "Наш следующий шаг -- введение переменных. Переменная -- это ячейка памяти, которая хранит объект определенного типа. Имя переменной начинается с нечисленного символа не являющегося разделителем, и не должно совпадать с \"ключевыми словами\" (переменными, зарезервированными за Python)."
   ]
  },
  {
   "cell_type": "code",
   "execution_count": 46,
   "metadata": {
    "slideshow": {
     "slide_type": "fragment"
    }
   },
   "outputs": [
    {
     "name": "stdout",
     "output_type": "stream",
     "text": [
      "1\n",
      "second\n",
      "2.0\n"
     ]
    }
   ],
   "source": [
    "x = 1\n",
    "_y = 'second' \n",
    "z = x + 1.0\n",
    "\n",
    "print(x)\n",
    "print(_y)\n",
    "print(z)"
   ]
  },
  {
   "cell_type": "markdown",
   "metadata": {
    "slideshow": {
     "slide_type": "subslide"
    }
   },
   "source": [
    "Создадим переменную _number_, содержащую целое число 1 и распечатаем её"
   ]
  },
  {
   "cell_type": "markdown",
   "metadata": {
    "slideshow": {
     "slide_type": "fragment"
    }
   },
   "source": [
    "Интерпретатор языка Python сам подбирает наиболее подходящий тип для данной переменной"
   ]
  },
  {
   "cell_type": "code",
   "execution_count": 52,
   "metadata": {
    "slideshow": {
     "slide_type": "fragment"
    }
   },
   "outputs": [
    {
     "name": "stdout",
     "output_type": "stream",
     "text": [
      "<class 'int'> <class 'str'> <class 'float'>\n"
     ]
    }
   ],
   "source": [
    "print(type(x),type(_y), type(z))"
   ]
  },
  {
   "cell_type": "markdown",
   "metadata": {
    "slideshow": {
     "slide_type": "subslide"
    }
   },
   "source": [
    "С переменными можно выполнять те же операции, что и с объектами, и даже немного больше"
   ]
  },
  {
   "cell_type": "code",
   "execution_count": 53,
   "metadata": {
    "slideshow": {
     "slide_type": "fragment"
    }
   },
   "outputs": [
    {
     "name": "stdout",
     "output_type": "stream",
     "text": [
      "Hello, world!\n"
     ]
    }
   ],
   "source": [
    "prefix = \"Hello,\"\n",
    "postfix = \"world\"\n",
    "\n",
    "print(prefix + \" \" + postfix + '!')"
   ]
  },
  {
   "cell_type": "code",
   "execution_count": 54,
   "metadata": {
    "slideshow": {
     "slide_type": "fragment"
    }
   },
   "outputs": [
    {
     "name": "stdout",
     "output_type": "stream",
     "text": [
      "130\n"
     ]
    }
   ],
   "source": [
    "x = 13\n",
    "y = 10\n",
    "print(x * y)"
   ]
  },
  {
   "cell_type": "markdown",
   "metadata": {
    "slideshow": {
     "slide_type": "slide"
    }
   },
   "source": [
    "### Функция input()\n",
    "\n",
    "Позволяет считать ввод с клавиатуры"
   ]
  },
  {
   "cell_type": "code",
   "execution_count": 1,
   "metadata": {
    "slideshow": {
     "slide_type": "fragment"
    }
   },
   "outputs": [
    {
     "name": "stdout",
     "output_type": "stream",
     "text": [
      "hello, world!\n"
     ]
    },
    {
     "data": {
      "text/plain": [
       "'hello, world!'"
      ]
     },
     "execution_count": 1,
     "metadata": {},
     "output_type": "execute_result"
    }
   ],
   "source": [
    "input()"
   ]
  },
  {
   "cell_type": "code",
   "execution_count": 60,
   "metadata": {
    "slideshow": {
     "slide_type": "subslide"
    }
   },
   "outputs": [
    {
     "name": "stdout",
     "output_type": "stream",
     "text": [
      "Nancy Drew\n",
      "Hello, Nancy Drew!\n"
     ]
    }
   ],
   "source": [
    "username = input()\n",
    "print(\"Hello, \" + username + \"!\")"
   ]
  },
  {
   "cell_type": "code",
   "execution_count": 61,
   "metadata": {
    "slideshow": {
     "slide_type": "fragment"
    }
   },
   "outputs": [
    {
     "name": "stdout",
     "output_type": "stream",
     "text": [
      "Hello, Nancy Drew!\n"
     ]
    }
   ],
   "source": [
    "print(\"Hello, \" + username + \"!\")"
   ]
  },
  {
   "cell_type": "markdown",
   "metadata": {
    "slideshow": {
     "slide_type": "slide"
    }
   },
   "source": [
    "### Github\n",
    "\n",
    "Мое любимое видео про гитхаб: https://www.youtube.com/watch?v=w3jLJU7DT5E\n",
    "\n",
    "Неформально:\n",
    "это технология/программный продукт (т.е можно установить и использовать)\n",
    "предлагающая способ \n",
    "* хранить историю изменений при работе в папке\n",
    "* следить за изменениями, сделанными в одном проекте разными людьми\n",
    "    - объединять эти изменения, смотреть на различия/схожести. \n",
    "    - находить, кто и когда добавил то туда\n",
    "* делиться work-in-progress работой так, чтобы\n",
    "    - посмотреть результат и присоединиться к работе можно\n",
    "    - текущую работу обсудить и как раньше было посмотреть\n"
   ]
  },
  {
   "cell_type": "markdown",
   "metadata": {
    "slideshow": {
     "slide_type": "subslide"
    }
   },
   "source": [
    "### Как использовать гит?\n"
   ]
  },
  {
   "cell_type": "markdown",
   "metadata": {
    "slideshow": {
     "slide_type": "fragment"
    }
   },
   "source": [
    "* На первое время достаточно использовать веб-интерфейс\n",
    "* Продвинутые пользователи могут использовать _git bash_ ([для Windows](https://gitforwindows.org/), [для MacOS](https://www.atlassian.com/git/tutorials/install-git))\n",
    "\n",
    "Два конспекта о том, как начать пользоваться гитом и гитхабом:\n",
    "\n",
    "[ancatmara.gitbooks.io](https://ancatmara.gitbooks.io/digital-literacy/content/chapter1.html)\n",
    "\n",
    "[https://github.com/lizaku](https://github.com/lizaku/Programming-and-computer-instruments/wiki/%D0%A1%D0%B5%D0%BC%D0%B8%D0%BD%D0%B0%D1%80-1:-GIT)"
   ]
  },
  {
   "cell_type": "markdown",
   "metadata": {
    "slideshow": {
     "slide_type": "subslide"
    }
   },
   "source": [
    "### Давайте что-нибудь отправим..."
   ]
  },
  {
   "cell_type": "markdown",
   "metadata": {
    "slideshow": {
     "slide_type": "fragment"
    }
   },
   "source": [
    "![](img/git.jpg)"
   ]
  },
  {
   "cell_type": "markdown",
   "metadata": {
    "slideshow": {
     "slide_type": "slide"
    }
   },
   "source": [
    "### Подведем итоги:"
   ]
  },
  {
   "cell_type": "markdown",
   "metadata": {
    "slideshow": {
     "slide_type": "fragment"
    }
   },
   "source": [
    "А теперь вспомним, сколько всего классного мы узнали уже сегодня:\n",
    "\n",
    "* Мы знаем, что Гвидо ван Россум -- автор языка программирования Python\n",
    "* Мы знаем три типа данных: **int**, **float**, **str**\n",
    "* Мы умеем определять тип данных с помощью функции **type()**\n",
    "* Мы умеем склыдывать, вычитать, умножать, возводить в степень, находить остаток от деления\n",
    "* Мы знаем, как оставлять комментарии в коде? #правда?\n",
    "* Мы знаем, что более сложные операции есть в библиотеке **math**\n",
    "* Мы знаем, как правильно вывести строку с помощью функции **print()**, и как вывести несколько элементов в одной строке\n",
    "* Мы умеем создавать переменные\n",
    "* Мы умеем пользоваться функцией **input()** для ввода данных с клавиатуры\n",
    "* Мы познакомились с **github**, создали наш первый репозиторий\n",
    "\n",
    "Ура?"
   ]
  }
 ],
 "metadata": {
  "celltoolbar": "Slideshow",
  "kernelspec": {
   "display_name": "Python 3",
   "language": "python",
   "name": "python3"
  },
  "language_info": {
   "codemirror_mode": {
    "name": "ipython",
    "version": 3
   },
   "file_extension": ".py",
   "mimetype": "text/x-python",
   "name": "python",
   "nbconvert_exporter": "python",
   "pygments_lexer": "ipython3",
   "version": "3.6.6"
  }
 },
 "nbformat": 4,
 "nbformat_minor": 2
}
