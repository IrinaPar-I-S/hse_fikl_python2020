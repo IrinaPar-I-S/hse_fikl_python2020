{
 "cells": [
  {
   "cell_type": "markdown",
   "metadata": {},
   "source": [
    "# Индексация в Python\n",
    "\n",
    "### Оператор `[]`\n",
    "С помощью квадратных скобок вы можете выбрать любой символ из строки:"
   ]
  },
  {
   "cell_type": "code",
   "execution_count": 1,
   "metadata": {},
   "outputs": [],
   "source": [
    "hello = 'hello'"
   ]
  },
  {
   "cell_type": "code",
   "execution_count": 2,
   "metadata": {},
   "outputs": [
    {
     "data": {
      "text/plain": [
       "'h'"
      ]
     },
     "execution_count": 2,
     "metadata": {},
     "output_type": "execute_result"
    }
   ],
   "source": [
    "hello[0]"
   ]
  },
  {
   "cell_type": "code",
   "execution_count": 3,
   "metadata": {},
   "outputs": [
    {
     "data": {
      "text/plain": [
       "'l'"
      ]
     },
     "execution_count": 3,
     "metadata": {},
     "output_type": "execute_result"
    }
   ],
   "source": [
    "hello[2]"
   ]
  },
  {
   "cell_type": "code",
   "execution_count": 4,
   "metadata": {},
   "outputs": [
    {
     "data": {
      "text/plain": [
       "'o'"
      ]
     },
     "execution_count": 4,
     "metadata": {},
     "output_type": "execute_result"
    }
   ],
   "source": [
    "hello[-1]"
   ]
  },
  {
   "cell_type": "markdown",
   "metadata": {},
   "source": [
    "Обратите внимание, что любой элемент строки — это тоже маленькая строка, состоящая из одного символа"
   ]
  },
  {
   "cell_type": "code",
   "execution_count": 5,
   "metadata": {},
   "outputs": [
    {
     "data": {
      "text/plain": [
       "str"
      ]
     },
     "execution_count": 5,
     "metadata": {},
     "output_type": "execute_result"
    }
   ],
   "source": [
    "type(hello[1])"
   ]
  },
  {
   "cell_type": "markdown",
   "metadata": {},
   "source": [
    "# Циклы в Python"
   ]
  },
  {
   "cell_type": "markdown",
   "metadata": {},
   "source": [
    "Еще одно преимущество языков программирования перед калькулятором: возможность задавать повторяющиеся операции. Более того, такая возможность дает несравнимое преимущество в каком-то смысле перед математикой. К примеру следующая задача: посчитать количиство способов разложить натуральное число $n$ на сумму натуральных чисел. Аналитической формулы такого числа просто не существует! А не самая сложная программа (основанная на базовых операциях, условных переходах и циклах) позволяет посчитать это число для достаточно больших $n$. "
   ]
  },
  {
   "cell_type": "markdown",
   "metadata": {},
   "source": [
    "Итак, циклы. Задача следующая: вывести числа 1, 2, 4, 8, 16, ..., 1024. Решение:"
   ]
  },
  {
   "cell_type": "code",
   "execution_count": 6,
   "metadata": {},
   "outputs": [
    {
     "name": "stdout",
     "output_type": "stream",
     "text": [
      "1\n",
      "2\n",
      "4\n",
      "8\n",
      "16\n",
      "32\n",
      "64\n",
      "128\n",
      "256\n",
      "512\n",
      "1024\n"
     ]
    }
   ],
   "source": [
    "k = 1\n",
    "while k <= 1024 :\n",
    "    print(k)\n",
    "    k *= 2"
   ]
  },
  {
   "cell_type": "markdown",
   "metadata": {},
   "source": [
    "Теперь подробнее про структуру такого цикла: \n",
    "\n",
    "**while** *condition* :\n",
    "\n",
    "пока условие *condition* выполнено, все, что написано после `while` с отступом (табуляцией) будет выполняться раз за разом. "
   ]
  },
  {
   "cell_type": "code",
   "execution_count": 7,
   "metadata": {},
   "outputs": [
    {
     "name": "stdout",
     "output_type": "stream",
     "text": [
      "-2\n",
      "2\n",
      "-6\n",
      "10\n",
      "-22\n",
      "42\n",
      "-86\n",
      "170\n",
      "This string is after cicle\n"
     ]
    }
   ],
   "source": [
    "k = 1\n",
    "c = 0\n",
    "while c < 100:\n",
    "    k *= -2\n",
    "    c += k\n",
    "    print(c)\n",
    "print('This string is after cicle')"
   ]
  },
  {
   "cell_type": "markdown",
   "metadata": {},
   "source": [
    "В тело цикла можно вставлять еще и условия. Например, задача: вывести все числа от 1 до 100, которые не делятся ни на 2 ни на 3:"
   ]
  },
  {
   "cell_type": "code",
   "execution_count": 8,
   "metadata": {},
   "outputs": [
    {
     "name": "stdout",
     "output_type": "stream",
     "text": [
      "1\n",
      "5\n",
      "7\n",
      "11\n",
      "13\n",
      "17\n",
      "19\n",
      "23\n",
      "25\n",
      "29\n",
      "31\n",
      "35\n",
      "37\n",
      "41\n",
      "43\n",
      "47\n",
      "49\n",
      "53\n",
      "55\n",
      "59\n",
      "61\n",
      "65\n",
      "67\n",
      "71\n",
      "73\n",
      "77\n",
      "79\n",
      "83\n",
      "85\n",
      "89\n",
      "91\n",
      "95\n",
      "97\n"
     ]
    }
   ],
   "source": [
    "k = 1\n",
    "while k <= 100:\n",
    "    if k%2 != 0 and k%3 != 0:\n",
    "        print(k)\n",
    "    k += 1"
   ]
  },
  {
   "cell_type": "markdown",
   "metadata": {},
   "source": [
    "Но объявление переменной перед циклом и увеличение ее \"вручную\" - вещь надоедающая. Поэтому есть более простой способ объявления циклов."
   ]
  },
  {
   "cell_type": "code",
   "execution_count": 9,
   "metadata": {},
   "outputs": [
    {
     "name": "stdout",
     "output_type": "stream",
     "text": [
      "0\n",
      "1\n",
      "2\n",
      "3\n",
      "4\n",
      "5\n",
      "6\n",
      "7\n",
      "8\n",
      "9\n"
     ]
    }
   ],
   "source": [
    "for i in range(10):\n",
    "    print(i)"
   ]
  },
  {
   "cell_type": "code",
   "execution_count": 10,
   "metadata": {},
   "outputs": [
    {
     "name": "stdout",
     "output_type": "stream",
     "text": [
      "5\n",
      "6\n",
      "7\n",
      "8\n",
      "9\n",
      "10\n",
      "11\n",
      "12\n",
      "13\n",
      "14\n"
     ]
    }
   ],
   "source": [
    "for i in range(5,15):\n",
    "    print(i)"
   ]
  },
  {
   "cell_type": "code",
   "execution_count": 11,
   "metadata": {},
   "outputs": [
    {
     "name": "stdout",
     "output_type": "stream",
     "text": [
      "1\n",
      "4\n",
      "7\n",
      "10\n",
      "13\n",
      "16\n",
      "19\n"
     ]
    }
   ],
   "source": [
    "for i in range(1,20,3):\n",
    "    print(i)"
   ]
  },
  {
   "cell_type": "code",
   "execution_count": 12,
   "metadata": {},
   "outputs": [
    {
     "name": "stdout",
     "output_type": "stream",
     "text": [
      "1\n",
      "5\n",
      "7\n",
      "11\n",
      "13\n",
      "17\n",
      "19\n",
      "23\n",
      "25\n",
      "29\n",
      "31\n",
      "35\n",
      "37\n",
      "41\n",
      "43\n",
      "47\n",
      "49\n",
      "53\n",
      "55\n",
      "59\n",
      "61\n",
      "65\n",
      "67\n",
      "71\n",
      "73\n",
      "77\n",
      "79\n",
      "83\n",
      "85\n",
      "89\n",
      "91\n",
      "95\n",
      "97\n"
     ]
    }
   ],
   "source": [
    "for i in range(1,100,2):\n",
    "    if i%3 != 0:\n",
    "        print(i)"
   ]
  },
  {
   "cell_type": "code",
   "execution_count": 22,
   "metadata": {},
   "outputs": [
    {
     "name": "stdout",
     "output_type": "stream",
     "text": [
      "5\n",
      "4\n",
      "3\n",
      "2\n",
      "1\n"
     ]
    }
   ],
   "source": [
    "for i in range(5, 0, -1):\n",
    "    print(i)"
   ]
  },
  {
   "cell_type": "markdown",
   "metadata": {},
   "source": [
    "Мы познакомились с простейшими, самыми примитивными циклами. Однако тема гораздо богаче, чем может показаться..."
   ]
  },
  {
   "cell_type": "markdown",
   "metadata": {},
   "source": [
    "1. В первую очередь, необходимо понять, что строка -- это последовательность букв, по которым тоже можно пройтись:"
   ]
  },
  {
   "cell_type": "code",
   "execution_count": 17,
   "metadata": {},
   "outputs": [
    {
     "name": "stdout",
     "output_type": "stream",
     "text": [
      "A\n",
      "b\n",
      "r\n",
      "a\n",
      " \n",
      "c\n",
      "a\n",
      "d\n",
      "a\n",
      "b\n",
      "r\n",
      "a\n"
     ]
    }
   ],
   "source": [
    "abra = \"Abra cadabra\"\n",
    "\n",
    "for i in abra:\n",
    "    print(i)"
   ]
  },
  {
   "cell_type": "markdown",
   "metadata": {},
   "source": [
    "2. Функция `len()`"
   ]
  },
  {
   "cell_type": "code",
   "execution_count": 20,
   "metadata": {},
   "outputs": [
    {
     "name": "stdout",
     "output_type": "stream",
     "text": [
      "0\n",
      "1\n",
      "2\n",
      "3\n",
      "4\n",
      "5\n",
      "6\n",
      "7\n",
      "8\n",
      "9\n",
      "10\n",
      "11\n"
     ]
    }
   ],
   "source": [
    "for i in range(len(abra)):\n",
    "    print(i)"
   ]
  },
  {
   "cell_type": "markdown",
   "metadata": {},
   "source": [
    "Отлично, мы же умеем использовать оператор `[]`?"
   ]
  },
  {
   "cell_type": "code",
   "execution_count": 21,
   "metadata": {},
   "outputs": [
    {
     "name": "stdout",
     "output_type": "stream",
     "text": [
      "A\n",
      "b\n",
      "r\n",
      "a\n",
      " \n",
      "c\n",
      "a\n",
      "d\n",
      "a\n",
      "b\n",
      "r\n",
      "a\n"
     ]
    }
   ],
   "source": [
    "for i in range(len(abra)):\n",
    "    print(abra[i])"
   ]
  },
  {
   "cell_type": "markdown",
   "metadata": {},
   "source": [
    "3. Чуть более сложное условие. Вывести буквы по три в строчки."
   ]
  },
  {
   "cell_type": "code",
   "execution_count": 19,
   "metadata": {},
   "outputs": [],
   "source": [
    "# your code here"
   ]
  },
  {
   "cell_type": "markdown",
   "metadata": {},
   "source": [
    "Отлично. Теперь следующая задача: среди чисел от 50 до 100 вывести все числа до первого, которое делится и на 5 и на 7. \n",
    "\n",
    "Программисту считать влом. "
   ]
  },
  {
   "cell_type": "code",
   "execution_count": 23,
   "metadata": {},
   "outputs": [
    {
     "name": "stdout",
     "output_type": "stream",
     "text": [
      "50\n",
      "51\n",
      "52\n",
      "53\n",
      "54\n",
      "55\n",
      "56\n",
      "57\n",
      "58\n",
      "59\n",
      "60\n",
      "61\n",
      "62\n",
      "63\n",
      "64\n",
      "65\n",
      "66\n",
      "67\n",
      "68\n",
      "69\n"
     ]
    }
   ],
   "source": [
    "is_number_found = False\n",
    "\n",
    "i = 50\n",
    "\n",
    "while (i <= 100) and not is_number_found:\n",
    "    if i % 5 == 0 and i % 7 == 0: \n",
    "        is_number_found = True\n",
    "    else:\n",
    "        print(i)\n",
    "    i += 1"
   ]
  },
  {
   "cell_type": "markdown",
   "metadata": {},
   "source": [
    "Чтобы знать, когда нам прекращать идти по циклу, нужно условие, при котором мы можем из него выйти. Это условие хранится в переменной `is_number_found`.\n",
    "\n",
    "Поскольку нам нужна явная проверка условий, цикл `for` нам не подойдет, только цикл `while`. \n",
    "\n",
    "Ну а внутри цикла все проще: мы дошли до интересующего нас числа и изменили значение флага `is_number_found` на `True`, чтобы прошло условие выхода из цикла. "
   ]
  },
  {
   "cell_type": "markdown",
   "metadata": {},
   "source": [
    "Не, ну так кодить нельзя, это мозги потом сломаешь код читать... Так что нам нужна процедура принудительного выхода из цикла. такой процедурой является процедура `break`"
   ]
  },
  {
   "cell_type": "code",
   "execution_count": 24,
   "metadata": {},
   "outputs": [
    {
     "name": "stdout",
     "output_type": "stream",
     "text": [
      "1\n",
      "2\n",
      "3\n",
      "4\n",
      "5\n"
     ]
    }
   ],
   "source": [
    "for i in range(1,20):\n",
    "    print(i)\n",
    "    if i == 5:\n",
    "        break"
   ]
  },
  {
   "cell_type": "markdown",
   "metadata": {},
   "source": [
    "Применим `break` к нашей задаче:"
   ]
  },
  {
   "cell_type": "code",
   "execution_count": 25,
   "metadata": {},
   "outputs": [
    {
     "name": "stdout",
     "output_type": "stream",
     "text": [
      "50\n",
      "51\n",
      "52\n",
      "53\n",
      "54\n",
      "55\n",
      "56\n",
      "57\n",
      "58\n",
      "59\n",
      "60\n",
      "61\n",
      "62\n",
      "63\n",
      "64\n",
      "65\n",
      "66\n",
      "67\n",
      "68\n",
      "69\n"
     ]
    }
   ],
   "source": [
    "for i in range(50, 101):\n",
    "    if i % 5 == 0 and i % 7 == 0:\n",
    "        break\n",
    "    print(i)"
   ]
  },
  {
   "cell_type": "markdown",
   "metadata": {},
   "source": [
    "Та же процедура работает для цикла с явно заданным условием `while`"
   ]
  },
  {
   "cell_type": "code",
   "execution_count": 26,
   "metadata": {},
   "outputs": [
    {
     "name": "stdout",
     "output_type": "stream",
     "text": [
      "50\n",
      "51\n",
      "52\n",
      "53\n",
      "54\n",
      "55\n",
      "56\n",
      "57\n",
      "58\n",
      "59\n",
      "60\n",
      "61\n",
      "62\n",
      "63\n",
      "64\n",
      "65\n",
      "66\n",
      "67\n",
      "68\n",
      "69\n"
     ]
    }
   ],
   "source": [
    "k = 50\n",
    "while k <= 100:\n",
    "    if k % 5 == 0 and k % 7 == 0:\n",
    "        break\n",
    "    print(k)\n",
    "    k += 1"
   ]
  },
  {
   "cell_type": "markdown",
   "metadata": {},
   "source": [
    "Еще одним оператором манипулирования циклами является оператор `continue`. Вот его эффект:"
   ]
  },
  {
   "cell_type": "code",
   "execution_count": 27,
   "metadata": {},
   "outputs": [
    {
     "name": "stdout",
     "output_type": "stream",
     "text": [
      "1\n",
      "2\n",
      "3\n",
      "4\n",
      "6\n",
      "7\n",
      "8\n",
      "9\n"
     ]
    }
   ],
   "source": [
    "for i in range(1,10):\n",
    "    if i == 5:\n",
    "        continue\n",
    "    print(i)"
   ]
  },
  {
   "cell_type": "markdown",
   "metadata": {},
   "source": [
    "Смотрим внимательно: цифра 5 пропущена. Оператор `continue` пропускает оставшуюся часть цикла и сразу переходит на следующую итерацию. Иногда нужно и такое."
   ]
  },
  {
   "cell_type": "markdown",
   "metadata": {},
   "source": [
    "Ну и совсем advanced: если после цикла нужно выполнить кусок кода **только в том случае, если выход из цикла был не принудительным** (не было `break`), можно опять воспользоваться оператором `else`:"
   ]
  },
  {
   "cell_type": "code",
   "execution_count": 32,
   "metadata": {},
   "outputs": [
    {
     "name": "stdout",
     "output_type": "stream",
     "text": [
      "1\n",
      "2\n"
     ]
    }
   ],
   "source": [
    "for i in range(1,5):\n",
    "    if i == 3:\n",
    "        break\n",
    "    print(i)\n",
    "else:\n",
    "    print(u\"Выход был НЕ принудительным\")"
   ]
  },
  {
   "cell_type": "markdown",
   "metadata": {},
   "source": [
    "## HW-2 (да-да, опять и снова)"
   ]
  },
  {
   "cell_type": "markdown",
   "metadata": {},
   "source": [
    "Правила игры те же: достаточно решить 60% задач. Задачи вы выбираете любые, главное решить их правильно. Дедлайн 25 октября 23:59\n",
    "    \n",
    "ссылка на classroom: https://classroom.github.com/a/XQOg-UuJ"
   ]
  },
  {
   "cell_type": "markdown",
   "metadata": {},
   "source": [
    "1) Вводится последовательность символов. Найти самую большую цифру, сохранить в переменную largest_number, вывести ее значение на экран.\n",
    "\n",
    "2) Вводится последовательность символов. Найти самый частый символ в строке, сохранить в переменную most_common, вывести ее значение на экран.\n",
    "\n",
    "3) Вводится последовательность символов. Проверить есть ли в строке символьная биграмма, встречающаяся дважды. Записать ответ в булевом типе данных в переменную occurred_twice, вывести ее значение на экран\n",
    "\n",
    "4) Пользователем вводится строка. Проверить, является ли строка палиндромом без использования срезов. Записать ответ в булевом типе данных в переменную is_palindrom, вывести ее значение на экран.\n",
    "\n",
    "5) Для первых 100 натуральных чисел $n$ проверить факт: $$1 + 3 + 5 + 7 + ... + (2n-1) = n^2$$\n",
    "\n",
    "6) Для заданного n вывести все такие k, что n >= k и k -- квадрат натурального числа\n",
    "\n",
    "7) Вводится число $n$. Найти сумму $$ \\sum_{i=1}^{n}{\\frac{1}{i}}$$\n",
    "\n",
    "8) Вводится число $n$. Вывести факториал числа $n$ (при помощи цикла). Записать ответ в переменную my_factorial, вывести ее значение на экран.\n",
    "\n",
    "9)* В турецком языке все гласные делятся на:\n",
    "\n",
    "* негубные:\n",
    "\n",
    "`non_labials = \"aıei\"`\n",
    "\n",
    "* губные:\n",
    "\n",
    "`labials = \"ouöü\"`\n",
    "\n",
    "Суть закона гармонии гласных состоит в следующем: все гласные в слове должны быть из одного класса.\n",
    "\n",
    "Вводится слово. Проверьте, подчиняется ли данное слово закону гармонии гласных в турецком языке. Ответ (True или False) сохранить в переменную `rule` и вывести ее на экран.\n",
    "\n",
    "\n",
    "Примеры:\n",
    "\n",
    "\n",
    "yaşlıdı (True)\n",
    "\n",
    "yaşlıdü (False)\n",
    "\n",
    "üzgündü (True)\n",
    "\n",
    "üzgündi (False)"
   ]
  },
  {
   "cell_type": "code",
   "execution_count": null,
   "metadata": {},
   "outputs": [],
   "source": []
  }
 ],
 "metadata": {
  "kernelspec": {
   "display_name": "Python 3",
   "language": "python",
   "name": "python3"
  },
  "language_info": {
   "codemirror_mode": {
    "name": "ipython",
    "version": 3
   },
   "file_extension": ".py",
   "mimetype": "text/x-python",
   "name": "python",
   "nbconvert_exporter": "python",
   "pygments_lexer": "ipython3",
   "version": "3.6.6"
  }
 },
 "nbformat": 4,
 "nbformat_minor": 2
}
