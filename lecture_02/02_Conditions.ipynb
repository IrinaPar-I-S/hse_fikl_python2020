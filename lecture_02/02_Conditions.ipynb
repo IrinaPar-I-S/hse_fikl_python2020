{
 "cells": [
  {
   "cell_type": "markdown",
   "metadata": {},
   "source": [
    "# Условия в Python"
   ]
  },
  {
   "cell_type": "markdown",
   "metadata": {},
   "source": [
    "### Ввод данных и преобразования типов\n",
    "\n",
    "На прошлом занятии мы научились выводить данные с помощью функции `print()`. Например, чтобы вывести число 5 на экран нужно написать в интерпретаторе `print(5)`, и он сделает свое дело.\n",
    "\n",
    "Но что, если нужно что-то ввести в программу из внешнего мира? Например, если наш самописный калькулятор умеет складывать 2 числа и выводить ответ, то как ввести эти самые 2 числа? На помощь придет функция `input()`. Попробуем написать вышеописанный калькулятор.\n",
    "\n",
    "Функции `input()` можно передать в качестве аргумента строку, которую увидит пользователь перед вводом."
   ]
  },
  {
   "cell_type": "code",
   "execution_count": null,
   "metadata": {},
   "outputs": [],
   "source": [
    "a = input(\"Введите число a:\")"
   ]
  },
  {
   "cell_type": "code",
   "execution_count": null,
   "metadata": {},
   "outputs": [],
   "source": [
    "b = input(\"Введите число b:\")"
   ]
  },
  {
   "cell_type": "code",
   "execution_count": null,
   "metadata": {},
   "outputs": [],
   "source": [
    "print(a + b)"
   ]
  },
  {
   "cell_type": "markdown",
   "metadata": {},
   "source": [
    "Что произошло?"
   ]
  },
  {
   "cell_type": "markdown",
   "metadata": {},
   "source": [
    "Так и в примере она считала `a` и `b` как 2 строки и просто «слепила» их вместе. Мы же хотим складывать числа. Чтобы все работало хорошо, нужно выполнить преобразование типов данных."
   ]
  },
  {
   "cell_type": "code",
   "execution_count": null,
   "metadata": {},
   "outputs": [],
   "source": [
    "int(a) + int(b)"
   ]
  },
  {
   "cell_type": "markdown",
   "metadata": {},
   "source": [
    "Можно делать наоборот, переводить числа в строки:"
   ]
  },
  {
   "cell_type": "code",
   "execution_count": null,
   "metadata": {},
   "outputs": [],
   "source": [
    "x = 34\n",
    "\n",
    "str(x)"
   ]
  },
  {
   "cell_type": "markdown",
   "metadata": {},
   "source": [
    "NB! Преобразовать строку с НЕ числом в число НЕ получится:"
   ]
  },
  {
   "cell_type": "code",
   "execution_count": null,
   "metadata": {},
   "outputs": [],
   "source": [
    "x = \"python\"\n",
    "\n",
    "int(x)"
   ]
  },
  {
   "cell_type": "markdown",
   "metadata": {},
   "source": [
    "Также не получится ввести число с плавающей точкой и перевести его в <class 'int'>"
   ]
  },
  {
   "cell_type": "code",
   "execution_count": null,
   "metadata": {},
   "outputs": [],
   "source": [
    "a = input()\n",
    "\n",
    "int(a)"
   ]
  },
  {
   "cell_type": "markdown",
   "metadata": {},
   "source": [
    "На помощь приходит `float()`:"
   ]
  },
  {
   "cell_type": "code",
   "execution_count": null,
   "metadata": {},
   "outputs": [],
   "source": [
    "float(a)"
   ]
  },
  {
   "cell_type": "markdown",
   "metadata": {},
   "source": [
    "Почему это так важно? Давай те рассмотрим пример:"
   ]
  },
  {
   "cell_type": "code",
   "execution_count": 25,
   "metadata": {},
   "outputs": [],
   "source": [
    "a = \"12\"\n",
    "b = \"3\""
   ]
  },
  {
   "cell_type": "code",
   "execution_count": 26,
   "metadata": {},
   "outputs": [],
   "source": [
    "c = 12\n",
    "d = 3"
   ]
  },
  {
   "cell_type": "code",
   "execution_count": 27,
   "metadata": {},
   "outputs": [
    {
     "data": {
      "text/plain": [
       "False"
      ]
     },
     "execution_count": 27,
     "metadata": {},
     "output_type": "execute_result"
    }
   ],
   "source": [
    "a > b"
   ]
  },
  {
   "cell_type": "code",
   "execution_count": 28,
   "metadata": {},
   "outputs": [
    {
     "data": {
      "text/plain": [
       "True"
      ]
     },
     "execution_count": 28,
     "metadata": {},
     "output_type": "execute_result"
    }
   ],
   "source": [
    "c > d"
   ]
  },
  {
   "cell_type": "markdown",
   "metadata": {},
   "source": [
    "## Условия"
   ]
  },
  {
   "cell_type": "markdown",
   "metadata": {},
   "source": [
    "Одной из отличительных черт языка программирования перед калькулятором является возможность \"принятия решения\". Производится это при помощи оператора условного перехода `if`:"
   ]
  },
  {
   "cell_type": "code",
   "execution_count": 29,
   "metadata": {},
   "outputs": [
    {
     "name": "stdout",
     "output_type": "stream",
     "text": [
      "positive(1)\n"
     ]
    }
   ],
   "source": [
    "x = 10\n",
    "\n",
    "if x > 0:\n",
    "    print('positive(1)')\n",
    "\n",
    "y = -10\n",
    "\n",
    "if y > 0:\n",
    "    print('positive(2)')"
   ]
  },
  {
   "cell_type": "markdown",
   "metadata": {},
   "source": [
    "Условный переход задается конструкцией if **expr** : **body**    Синтаксис языка таков, что \"внутри условия\" считается все, что находится после него на расстоянии одного отступа (табуляция).\n",
    "\n",
    "Подобный механизм нужен для того, чтобы \"менять ход программы\" когда часть переменых нам неизвестна (считывается из файла, вводится с клавиатуры, приходит из сети и т.п.). \n",
    "Поставим такую задачу: задана переменная x. Необходимо вывести 'positive' если $$x > 0$$, и 'not positive', если $$ x \\le 0$$"
   ]
  },
  {
   "cell_type": "markdown",
   "metadata": {},
   "source": [
    "Уже знакомыми нам средствами это вполне можно сделать (меняйте значение x для того, чтобы убедиться в правильности кода):"
   ]
  },
  {
   "cell_type": "code",
   "execution_count": 30,
   "metadata": {},
   "outputs": [
    {
     "name": "stdout",
     "output_type": "stream",
     "text": [
      "positive\n"
     ]
    }
   ],
   "source": [
    "x = 5\n",
    "\n",
    "if x > 0:\n",
    "    print('positive')\n",
    "if x <= 0:\n",
    "    print('not positive')"
   ]
  },
  {
   "cell_type": "markdown",
   "metadata": {},
   "source": [
    "Однако понятно, что на самом деле мы дважды проверяем одно и то же условие: проверку положительности $x$, просто наша реакция на истинность условия и ложность условия разная. \n",
    "\n",
    "Стандартные средства языка python позволяют избежать подобной процедуры при помощи оператора `else`:"
   ]
  },
  {
   "cell_type": "code",
   "execution_count": 31,
   "metadata": {},
   "outputs": [
    {
     "name": "stdout",
     "output_type": "stream",
     "text": [
      "not positive\n"
     ]
    }
   ],
   "source": [
    "x = -5\n",
    "\n",
    "if x > 0:\n",
    "    print('positive')\n",
    "else:\n",
    "    print('not positive')"
   ]
  },
  {
   "cell_type": "markdown",
   "metadata": {},
   "source": [
    "Теперь поменяем задачу: нам надо определить, является ли число x положительным, отрицательным или нулем. В целом процедура во многом схожая:"
   ]
  },
  {
   "cell_type": "code",
   "execution_count": 33,
   "metadata": {},
   "outputs": [
    {
     "name": "stdout",
     "output_type": "stream",
     "text": [
      "zero\n"
     ]
    }
   ],
   "source": [
    "x = 0\n",
    "\n",
    "if x > 0:  # check positivity\n",
    "    print('positive')\n",
    "elif x == 0:  # if not positive check equality to 0\n",
    "    print('zero')\n",
    "else:  # if not positive and not zero, so x is negative\n",
    "    print('negative')"
   ]
  },
  {
   "cell_type": "markdown",
   "metadata": {},
   "source": [
    "Одной из главных странностей, которые здесь могут смутить - это два знака равенства при проверке нуля. Суть в следующем: одиночное равенство воспринялось бы интерпретаторо в том выражении как \"записать в переменную x ноль\". А операция \"проверить, не равно ли\" записывается двойным равенством. Вот список прочих операций сравнения переменных. \n",
    "\n",
    "$<$ меньше\n",
    "\n",
    "$>$ больше \n",
    "    \n",
    "$<$= меньше или равно \n",
    "    \n",
    "$>$= больше или равно \n",
    "    \n",
    "== равно\n",
    "    \n",
    "!= неравно\n",
    "\n",
    "\n",
    "Схожие операции можно использовать и для других типов данных, например для строк."
   ]
  },
  {
   "cell_type": "code",
   "execution_count": 35,
   "metadata": {},
   "outputs": [
    {
     "name": "stdout",
     "output_type": "stream",
     "text": [
      "mama is equal mama\n",
      "mama is not equal Mama\n",
      "abc is not greater bca\n"
     ]
    }
   ],
   "source": [
    "if 'mama' == 'mama':\n",
    "    print('mama is equal mama')\n",
    "if 'mama' != 'Mama':\n",
    "    print('mama is not equal Mama')\n",
    "if 'abc' < 'bca':\n",
    "    print('abc is not greater bca')"
   ]
  },
  {
   "cell_type": "markdown",
   "metadata": {},
   "source": [
    "А что самое интересное, выражение после условия так же имеет свой тип:"
   ]
  },
  {
   "cell_type": "code",
   "execution_count": 37,
   "metadata": {},
   "outputs": [
    {
     "name": "stdout",
     "output_type": "stream",
     "text": [
      "False\n",
      "True\n",
      "<class 'bool'>\n"
     ]
    }
   ],
   "source": [
    "print(0 > 1)\n",
    "print(0 < 1)\n",
    "print(type(0 > 1))"
   ]
  },
  {
   "cell_type": "markdown",
   "metadata": {},
   "source": [
    "Если вы немножко знакомы с логикой и логическими операциями, то операций **or** и **and** вам точно не нужно бояться "
   ]
  },
  {
   "cell_type": "code",
   "execution_count": 40,
   "metadata": {},
   "outputs": [
    {
     "name": "stdout",
     "output_type": "stream",
     "text": [
      "False\n"
     ]
    }
   ],
   "source": [
    "print((1 > 0) and (1 < 0))"
   ]
  },
  {
   "cell_type": "code",
   "execution_count": 41,
   "metadata": {},
   "outputs": [
    {
     "name": "stdout",
     "output_type": "stream",
     "text": [
      "True\n"
     ]
    }
   ],
   "source": [
    "print((1 > 0) or (1 < 0))"
   ]
  },
  {
   "cell_type": "markdown",
   "metadata": {},
   "source": [
    "![](https://ykl-res.azureedge.net/27c29b1d-f0de-41d1-94a5-6f7d64031208/1_%21.png)\n",
    "\n",
    "![](https://ykl-res.azureedge.net/f19937be-c86d-4b9f-ba6e-abd02aa0ef99/1_2.png)"
   ]
  },
  {
   "cell_type": "markdown",
   "metadata": {},
   "source": [
    "True похожа на 1, а False на 0? Так и есть!"
   ]
  },
  {
   "cell_type": "code",
   "execution_count": 46,
   "metadata": {},
   "outputs": [
    {
     "name": "stdout",
     "output_type": "stream",
     "text": [
      "True is 1 , False is 0\n"
     ]
    }
   ],
   "source": [
    "print(\"True is\", int(True), \", False is\", int(False))"
   ]
  },
  {
   "cell_type": "markdown",
   "metadata": {},
   "source": [
    "Отлично. Теперь мы можем комбинировать самые разные условия при помощи этих операторов:"
   ]
  },
  {
   "cell_type": "code",
   "execution_count": 47,
   "metadata": {},
   "outputs": [
    {
     "name": "stdout",
     "output_type": "stream",
     "text": [
      "x can be a probability\n",
      "x is not a zero\n",
      "x is not a one\n",
      "dvbskj\n"
     ]
    }
   ],
   "source": [
    "x = 0.6\n",
    "if (x >= 0.0) and (x <= 1.0):\n",
    "    print('x can be a probability')\n",
    "    if x > 0.0:\n",
    "        print('x is not a zero')\n",
    "    if x < 1.0:\n",
    "        print('x is not a one')\n",
    "        if x < 2.0:\n",
    "            print(\"dvbskj\")\n",
    "else:\n",
    "    print('it\\'s impossible for x to be a probability')"
   ]
  },
  {
   "cell_type": "markdown",
   "metadata": {},
   "source": [
    "### HW-1\n",
    "\n",
    "Чтобы сделать домашку нужно:\n",
    "\n",
    "1. Перейти по ссылке с домашкой\n",
    "\n",
    "https://classroom.github.com/a/BJFEIxXj\n",
    "\n",
    "2. Принимаете вызов\n",
    "\n",
    "![](img/1.JPG)\n",
    "\n",
    "3. После появления этого окна обновляете страничку\n",
    "\n",
    "![](img/2.JPG)\n",
    "\n",
    "4. Ваш личный репозиторий по домашке готов. Переходите по ссылке:\n",
    "\n",
    "![](img/3.JPG)\n",
    "\n",
    "6. Файлы с выполненным домашним заданием загружаете в репозиторий. Если вы хорошо владеете гитхабом, то для загрузки файлов можете использовать любой удобным вам способ.\n",
    "\n",
    "![](img/4.JPG)\n"
   ]
  },
  {
   "cell_type": "markdown",
   "metadata": {},
   "source": [
    "1. Белочки делят между собой орешки. Если орешки поровну не делятся, остаток остается в дупле. Напишите программу, которая принимает количество белочек и орешков, а на выходе дает число орешков, которое получит каждая белочка."
   ]
  },
  {
   "cell_type": "markdown",
   "metadata": {},
   "source": [
    "2. Пётр Иванович хочет испечь большую печеньку. У него есть форма для выпечки диаметром 45 сантиметров и высотой 5 сантиметров. Посчитайте, какого объема будет печенька Петра Ивановича. Результат положите в переменную  area_of_circle\n"
   ]
  },
  {
   "cell_type": "markdown",
   "metadata": {},
   "source": [
    "3. Получите слово с помощью функции input(). Если слово равно единица, то положите в переменную number число 1. Если же слово равно двойка, то присвойте переменной number число 2.0 типа float. Если слово равно чему-то другому, то в переменной должно лежать False"
   ]
  },
  {
   "cell_type": "markdown",
   "metadata": {},
   "source": [
    "4. Получите с помощью функции input() строку с числом и приведите число в тип float. Полученное число присвойте переменной float_number"
   ]
  },
  {
   "cell_type": "markdown",
   "metadata": {},
   "source": [
    "5. Вася любит отправлять своим друзьям поздравления с новым годом и открытки с котиками. Открытки у него уже есть, а вот для поздравления он решил написать программу, которая будет автоматически подставлять нужный год в текст. Текст может быть любым на ваше усмотрение."
   ]
  },
  {
   "cell_type": "markdown",
   "metadata": {},
   "source": [
    "6. Вводится целое неотрицательное число N. Выведите 2 в степени N."
   ]
  },
  {
   "cell_type": "markdown",
   "metadata": {},
   "source": [
    "7. Вася уехал учиться по обмену на один семестр в Италию. Единственный магазин в городе открыт с 6 до 8 утра и с 16 до 17 вечера (включительно). Вася не мог попасть в магазин уже несколько дней и страдает от голода. Он может прийти в магазин в X часов. Если магазин открыт в X часов, то выведите True, а если закрыт - выведите False."
   ]
  },
  {
   "cell_type": "markdown",
   "metadata": {},
   "source": [
    "8. Напишите программу, которая считывает два целых числа A и B и выводит наибольшее значение из них. "
   ]
  },
  {
   "cell_type": "markdown",
   "metadata": {},
   "source": [
    "9. Помогите Даше определить, является ли год с данным номером високосным. Если год является високосным, то выведите YES, иначе выведите NO. Напомним, что в соответствии с григорианским календарем, год является високосным, если его номер кратен 4, но не кратен 100, а также если он кратен 400. "
   ]
  },
  {
   "cell_type": "markdown",
   "metadata": {},
   "source": [
    "10. Даны числа $x,y,z$. Проверить, существует ли треугольник, с длинами сторон равными этим величинам."
   ]
  },
  {
   "cell_type": "markdown",
   "metadata": {},
   "source": [
    "11. Температура в комнате: $$24^oC$$ посчитать, сколько в комнате градусов в фарингейтах"
   ]
  },
  {
   "cell_type": "markdown",
   "metadata": {},
   "source": [
    "12. \\* Дан номер дня в году (невысокосного). Написать, какой в этот день был месяц, и какой день недели если 1 января пришелся на понедельник."
   ]
  }
 ],
 "metadata": {
  "kernelspec": {
   "display_name": "Python 3",
   "language": "python",
   "name": "python3"
  },
  "language_info": {
   "codemirror_mode": {
    "name": "ipython",
    "version": 3
   },
   "file_extension": ".py",
   "mimetype": "text/x-python",
   "name": "python",
   "nbconvert_exporter": "python",
   "pygments_lexer": "ipython3",
   "version": "3.6.6"
  }
 },
 "nbformat": 4,
 "nbformat_minor": 2
}
