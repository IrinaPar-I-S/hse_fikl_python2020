{
 "cells": [
  {
   "cell_type": "markdown",
   "metadata": {},
   "source": [
    "# Списки (Lists)"
   ]
  },
  {
   "cell_type": "markdown",
   "metadata": {},
   "source": [
    "Как вы могли предположить, сегодня у нас с вами тест! (между прочим, тесты весят 0.2 от финальной оценки)."
   ]
  },
  {
   "cell_type": "markdown",
   "metadata": {},
   "source": [
    "#### Разминка:\n",
    "\n",
    "(не?)любимый [kahoot.it](https://kahoot.it)"
   ]
  },
  {
   "cell_type": "markdown",
   "metadata": {},
   "source": [
    "#### Ура, тест!\n",
    "\n",
    "![](https://i.pinimg.com/originals/9e/1d/d1/9e1dd199a2f7f9c709f765fc8dd2107f.png)\n",
    "\n",
    "Самое классное, что мы начинаем пользоваться ботом для сдачи домашних заданий. Вы можете сдавать задачи заранее и получать заранее фидбек и возможность что-то исправить.\n",
    "\n",
    "В поиске нужно вбить **\"SEMiCODE\"** или **@semicodebot**\n",
    "\n",
    "представиться боту и выбрать тест для сдачи."
   ]
  },
  {
   "cell_type": "markdown",
   "metadata": {},
   "source": [
    "У вас есть 15 минут, чтобы решить эти задачи + 5 минут загрузить"
   ]
  },
  {
   "cell_type": "markdown",
   "metadata": {},
   "source": [
    "![](https://www.meme-arsenal.com/memes/4a90d2b85b237891a0fc63e75547259d.jpg)"
   ]
  },
  {
   "cell_type": "markdown",
   "metadata": {},
   "source": [
    "## Списки!"
   ]
  },
  {
   "cell_type": "markdown",
   "metadata": {},
   "source": [
    "Переменные -- это хорошо. А теперь давайте подумаем, а если у нас много переменных? Длина, ширина, высота, порядковый номер... Ну, предположим, это $x, y, z, i$. А вот такой факт: ВКонтакте зарегистрировано около 38 миллионов человек. Для каждого свою переменную? А как потом обращаться к ним?! Вот, к примеру, задача, проверить, кто сейчас онлайн. Примерный исходный код:\n",
    "\n",
    "*Проверить, онлайн ли первый*\n",
    "\n",
    "*Проверить, онлайн ли второй*\n",
    "\n",
    "*...*\n",
    "\n",
    "*Проверить, онлайн ли 1945003-й*\n",
    "\n",
    "*...*\n",
    "\n",
    "В общем, просто переменными дело явно не обойдется... \n"
   ]
  },
  {
   "cell_type": "markdown",
   "metadata": {},
   "source": [
    "**Контейнером для хранения множества данных в Python являются списки**"
   ]
  },
  {
   "cell_type": "code",
   "execution_count": 6,
   "metadata": {},
   "outputs": [
    {
     "name": "stdout",
     "output_type": "stream",
     "text": [
      "['first', 'second', 'middle', 'last but one', 'last']\n",
      "<class 'list'>\n"
     ]
    }
   ],
   "source": [
    "l = [\"first\", \"second\", \"middle\", \"last but one\", \"last\" ]\n",
    "print(l)\n",
    "print(type(l))"
   ]
  },
  {
   "cell_type": "markdown",
   "metadata": {},
   "source": [
    "Отлично, и что нам это дает? Ну, в первую очередь обращение к переменным по индексу. Например:"
   ]
  },
  {
   "cell_type": "code",
   "execution_count": 16,
   "metadata": {},
   "outputs": [
    {
     "name": "stdout",
     "output_type": "stream",
     "text": [
      "first middle last\n"
     ]
    }
   ],
   "source": [
    "list1 = [\"first\", \"second\", \"middle\", \"last but one\", \"last\"]\n",
    "\n",
    "print(list1[0], list1[2], list1[4])"
   ]
  },
  {
   "cell_type": "code",
   "execution_count": 17,
   "metadata": {},
   "outputs": [],
   "source": [
    "# your code: последний с конце символ?"
   ]
  },
  {
   "cell_type": "markdown",
   "metadata": {},
   "source": [
    "Более того, ЛЮБОЙ элемент списка можно использовать как обычную переменную. "
   ]
  },
  {
   "cell_type": "code",
   "execution_count": 18,
   "metadata": {},
   "outputs": [
    {
     "name": "stdout",
     "output_type": "stream",
     "text": [
      "['first', 'second', 'middle', 'last but one', 'last']\n",
      "['first', 'second', 'That was a middle element', 'last but one', 'last']\n"
     ]
    }
   ],
   "source": [
    "l = [\"first\", \"second\", \"middle\", \"last but one\", \"last\" ]\n",
    "print(l)\n",
    "# take a look on the following line:\n",
    "l[2] = \"That was a middle element\"\n",
    "print(l)"
   ]
  },
  {
   "cell_type": "markdown",
   "metadata": {},
   "source": [
    "Списки могут хранить переменные совершенно разных типов:"
   ]
  },
  {
   "cell_type": "code",
   "execution_count": 10,
   "metadata": {},
   "outputs": [
    {
     "name": "stdout",
     "output_type": "stream",
     "text": [
      "[1, 2, 3]\n",
      "[1.0, 2.0, 3.0]\n",
      "['MultiType', 2, [3, 4]]\n"
     ]
    }
   ],
   "source": [
    "l1 = [1, 2, 3]\n",
    "l2 = [1.0, 2.0, 3.0]\n",
    "l3 = [\"MultiType\", 2, [3, 4]]\n",
    "print(l1)\n",
    "print(l2)\n",
    "print(l3)"
   ]
  },
  {
   "cell_type": "markdown",
   "metadata": {},
   "source": [
    "Как вы могли догадаться на прошлой паре, последовательность символов в строке можно преобразовать в список:"
   ]
  },
  {
   "cell_type": "code",
   "execution_count": 7,
   "metadata": {},
   "outputs": [
    {
     "data": {
      "text/plain": [
       "['п', 'р', 'и', 'в', 'е', 'т']"
      ]
     },
     "execution_count": 7,
     "metadata": {},
     "output_type": "execute_result"
    }
   ],
   "source": [
    "list('привет')"
   ]
  },
  {
   "cell_type": "markdown",
   "metadata": {},
   "source": [
    "Супер, теперь давайте подумаем над следующим кодом:"
   ]
  },
  {
   "cell_type": "code",
   "execution_count": 12,
   "metadata": {},
   "outputs": [
    {
     "name": "stdout",
     "output_type": "stream",
     "text": [
      "[0, 1, 2, 3, 4, 5, 6, 7, 8, 9]\n"
     ]
    }
   ],
   "source": [
    "a = list(range(10))\n",
    "print(a)"
   ]
  },
  {
   "cell_type": "markdown",
   "metadata": {},
   "source": [
    "Именно, range генерирует последовательность объектов. Следующий из этого вывод: синтаксис цикла for так же подойдет и для созданного нами списка. (но range и list все-таки разные вещи)"
   ]
  },
  {
   "cell_type": "code",
   "execution_count": 14,
   "metadata": {},
   "outputs": [
    {
     "name": "stdout",
     "output_type": "stream",
     "text": [
      "first\n",
      "second\n",
      "middle\n",
      "last but one\n",
      "last\n",
      "the last\n"
     ]
    }
   ],
   "source": [
    "l = [\"first\", \"second\", \"middle\", \"last but one\", \"last\", \"the last\" ]\n",
    "for i in range(6):\n",
    "    print(l[i])"
   ]
  },
  {
   "cell_type": "code",
   "execution_count": 21,
   "metadata": {},
   "outputs": [],
   "source": [
    "# что заменить в предыдущем коде, чтобы идти по длине списка?"
   ]
  },
  {
   "cell_type": "code",
   "execution_count": 15,
   "metadata": {},
   "outputs": [
    {
     "name": "stdout",
     "output_type": "stream",
     "text": [
      "first\n",
      "second\n",
      "middle\n",
      "last but one\n",
      "last\n",
      "the last\n"
     ]
    }
   ],
   "source": [
    "for i in l:\n",
    "    print(i)"
   ]
  },
  {
   "cell_type": "markdown",
   "metadata": {},
   "source": [
    "**Задание: подумать, что здесь происходит, и почему?**"
   ]
  },
  {
   "cell_type": "code",
   "execution_count": 19,
   "metadata": {},
   "outputs": [
    {
     "name": "stdout",
     "output_type": "stream",
     "text": [
      "['first', 'second', 'middle', 'last but one', 'last']\n"
     ]
    }
   ],
   "source": [
    "l = [\"first\", \"second\", \"middle\", \"last but one\", \"last\" ]\n",
    "for i in l:\n",
    "    i += \" Batman!!!\"\n",
    "print(l)"
   ]
  },
  {
   "cell_type": "code",
   "execution_count": 20,
   "metadata": {},
   "outputs": [
    {
     "name": "stdout",
     "output_type": "stream",
     "text": [
      "['first Batman!!!', 'second Batman!!!', 'middle Batman!!!', 'last but one Batman!!!', 'last Batman!!!']\n"
     ]
    }
   ],
   "source": [
    "for i in range(5):\n",
    "    l[i] += \" Batman!!!\"\n",
    "print(l)"
   ]
  },
  {
   "cell_type": "markdown",
   "metadata": {},
   "source": [
    "## Срезы"
   ]
  },
  {
   "cell_type": "markdown",
   "metadata": {},
   "source": [
    "Итак, далее предположим, что у нас есть список, с которым мы работаем. Например, список l. Очень хорошо, когда мы знаем об этос списке все, но что делать если это не так?(А зачастую, так и есть).\n",
    "\n",
    "Например, как нам вывести последний элемент, если мы не знаем, сколько элементов в списке? Вот так:"
   ]
  },
  {
   "cell_type": "code",
   "execution_count": 22,
   "metadata": {},
   "outputs": [
    {
     "name": "stdout",
     "output_type": "stream",
     "text": [
      "Первый с конца: last\n",
      "Второй с конца: last but one\n"
     ]
    }
   ],
   "source": [
    "l = [\"first\", \"second\", \"middle\", \"last but one\", \"last\" ]\n",
    "print(\"Первый с конца:\", l[-1])\n",
    "print(\"Второй с конца:\", l[-2])"
   ]
  },
  {
   "cell_type": "markdown",
   "metadata": {},
   "source": [
    "Отлично. Усложняем задачу: нам надо вывести все элементы от второго, до последнего, затем от второго до предпоследнего, затем первые 3 элемента, затем от первого до третьего. \n",
    "\n",
    "Тут нас спасет двоеточие:"
   ]
  },
  {
   "cell_type": "code",
   "execution_count": 23,
   "metadata": {},
   "outputs": [
    {
     "name": "stdout",
     "output_type": "stream",
     "text": [
      "['first', 'second', 'middle']\n"
     ]
    }
   ],
   "source": [
    "l = [\"first\", \"second\", \"middle\", \"last but one\", \"last\" ]\n",
    "\n",
    "print(l[0:3])"
   ]
  },
  {
   "cell_type": "code",
   "execution_count": 24,
   "metadata": {},
   "outputs": [
    {
     "name": "stdout",
     "output_type": "stream",
     "text": [
      "['middle', 'last but one', 'last']\n"
     ]
    }
   ],
   "source": [
    "print(l[2:])"
   ]
  },
  {
   "cell_type": "code",
   "execution_count": 25,
   "metadata": {},
   "outputs": [
    {
     "name": "stdout",
     "output_type": "stream",
     "text": [
      "['middle', 'last but one']\n"
     ]
    }
   ],
   "source": [
    "print(l[2:-1])"
   ]
  },
  {
   "cell_type": "code",
   "execution_count": 26,
   "metadata": {},
   "outputs": [
    {
     "name": "stdout",
     "output_type": "stream",
     "text": [
      "['second', 'middle', 'last but one']\n"
     ]
    }
   ],
   "source": [
    "l = [\"first\", \"second\", \"middle\", \"last but one\", \"last\" ]\n",
    "print(l[1:4]) # Почему тут 1:4, если нам от первого до третьего???!!! "
   ]
  },
  {
   "cell_type": "code",
   "execution_count": 29,
   "metadata": {},
   "outputs": [
    {
     "name": "stdout",
     "output_type": "stream",
     "text": [
      "['first', 'middle', 'last']\n"
     ]
    }
   ],
   "source": [
    "print(l[0:5:2])"
   ]
  },
  {
   "cell_type": "markdown",
   "metadata": {},
   "source": [
    "Супер. Ну, теперь мы дошли до ключевого вопроса: вывести, сколько элементов в списке:"
   ]
  },
  {
   "cell_type": "code",
   "execution_count": 30,
   "metadata": {},
   "outputs": [
    {
     "data": {
      "text/plain": [
       "5"
      ]
     },
     "execution_count": 30,
     "metadata": {},
     "output_type": "execute_result"
    }
   ],
   "source": [
    "len(l)"
   ]
  },
  {
   "cell_type": "markdown",
   "metadata": {},
   "source": [
    "## Работа с несколькими списками"
   ]
  },
  {
   "cell_type": "markdown",
   "metadata": {},
   "source": [
    "Ну, теперь предположим, что мы хотим пополнить наш список новым элементом. Приятной особенностью окажется возможность складывать списки."
   ]
  },
  {
   "cell_type": "code",
   "execution_count": 64,
   "metadata": {},
   "outputs": [
    {
     "name": "stdout",
     "output_type": "stream",
     "text": [
      "[1, 2, 3, 4, 5, 6]\n"
     ]
    }
   ],
   "source": [
    "f = [1,2,3]\n",
    "s = [4,5,6]\n",
    "\n",
    "print(f + s)"
   ]
  },
  {
   "cell_type": "markdown",
   "metadata": {},
   "source": [
    "Можно посложнее:"
   ]
  },
  {
   "cell_type": "code",
   "execution_count": 65,
   "metadata": {},
   "outputs": [
    {
     "name": "stdout",
     "output_type": "stream",
     "text": [
      "[1, 2, 3, 4, 5, 6]\n"
     ]
    }
   ],
   "source": [
    "for i in s:\n",
    "    f.append(i)\n",
    "\n",
    "print(f)"
   ]
  },
  {
   "cell_type": "markdown",
   "metadata": {},
   "source": [
    "Или так:"
   ]
  },
  {
   "cell_type": "code",
   "execution_count": 67,
   "metadata": {},
   "outputs": [
    {
     "name": "stdout",
     "output_type": "stream",
     "text": [
      "[1, 2, 3, 4, 5, 6]\n"
     ]
    }
   ],
   "source": [
    "f = [1,2,3]\n",
    "s = [4,5,6]\n",
    "\n",
    "f.extend(s)\n",
    "print(f)"
   ]
  },
  {
   "cell_type": "markdown",
   "metadata": {},
   "source": [
    "Интересный вопрос, почему не..."
   ]
  },
  {
   "cell_type": "code",
   "execution_count": 68,
   "metadata": {},
   "outputs": [
    {
     "name": "stdout",
     "output_type": "stream",
     "text": [
      "None\n"
     ]
    }
   ],
   "source": [
    "f = [1,2,3]\n",
    "s = [4,5,6]\n",
    "\n",
    "f = f.extend(s)\n",
    "print(f)"
   ]
  },
  {
   "cell_type": "markdown",
   "metadata": {},
   "source": [
    "`None` - это отдельный особенный тип данных, означающий пустоту"
   ]
  },
  {
   "cell_type": "code",
   "execution_count": 70,
   "metadata": {},
   "outputs": [
    {
     "data": {
      "text/plain": [
       "NoneType"
      ]
     },
     "execution_count": 70,
     "metadata": {},
     "output_type": "execute_result"
    }
   ],
   "source": [
    "type(None)"
   ]
  },
  {
   "cell_type": "markdown",
   "metadata": {},
   "source": [
    "Чтобы проверить что-то на пустоту нужно делать не `==`, а `is`. Например:"
   ]
  },
  {
   "cell_type": "code",
   "execution_count": 74,
   "metadata": {},
   "outputs": [
    {
     "name": "stdout",
     "output_type": "stream",
     "text": [
      "Ничего\n"
     ]
    }
   ],
   "source": [
    "my_none = None\n",
    "\n",
    "if my_none is None:\n",
    "    print('Ничего')"
   ]
  },
  {
   "cell_type": "code",
   "execution_count": 73,
   "metadata": {},
   "outputs": [],
   "source": [
    "my_none = \"\"\n",
    "\n",
    "if my_none is None:\n",
    "    print('Ничего')"
   ]
  },
  {
   "cell_type": "code",
   "execution_count": 75,
   "metadata": {},
   "outputs": [],
   "source": [
    "my_none = []\n",
    "\n",
    "if my_none is None:\n",
    "    print('Ничего')"
   ]
  },
  {
   "cell_type": "markdown",
   "metadata": {},
   "source": [
    "## Встроенные функции списков"
   ]
  },
  {
   "cell_type": "markdown",
   "metadata": {},
   "source": [
    "**есть еще и встроенные функции??**\n",
    "\n",
    "О, да! Еще как есть! И вот их список:\n",
    "\n",
    "list.append(x)\n",
    "\n",
    "\n",
    "list.extend(L)\n",
    "\n",
    "\n",
    "list.insert(i, x)\n",
    "\n",
    "\n",
    "list.remove(x)\n",
    "\n",
    "\n",
    "list.pop([i])\n",
    "\n",
    "\n",
    "list.index(x)\n",
    "\n",
    "\n",
    "list.count(x)\n",
    "\n",
    "\n",
    "list.sort()\n",
    "\n",
    "\n",
    "list.reverse()\n",
    "\n",
    "А подробную документацию по каждой из них можно найти [здесь](http://docs.python.org/2/tutorial/datastructures.html)"
   ]
  },
  {
   "cell_type": "code",
   "execution_count": 37,
   "metadata": {},
   "outputs": [
    {
     "name": "stdout",
     "output_type": "stream",
     "text": [
      "[3, 5, 46, 1323]\n",
      "[1323, 46, 5, 3]\n"
     ]
    }
   ],
   "source": [
    "l = [1323,3,5,46]\n",
    "l.sort()\n",
    "\n",
    "print(l)\n",
    "\n",
    "l.reverse()\n",
    "\n",
    "print(l)"
   ]
  },
  {
   "cell_type": "markdown",
   "metadata": {},
   "source": [
    "Есть еще один способ развернуть список в обратном порядке с помощью срезов (**НО ЭТО ПЛОХОЙ СТИЛЬ КОДА**)"
   ]
  },
  {
   "cell_type": "code",
   "execution_count": 39,
   "metadata": {},
   "outputs": [
    {
     "data": {
      "text/plain": [
       "[3, 5, 46, 1323]"
      ]
     },
     "execution_count": 39,
     "metadata": {},
     "output_type": "execute_result"
    }
   ],
   "source": [
    "l[::-1] # почему снова в порядке возрастания????"
   ]
  },
  {
   "cell_type": "markdown",
   "metadata": {},
   "source": [
    "**В чем разница двух удалений?**"
   ]
  },
  {
   "cell_type": "code",
   "execution_count": 34,
   "metadata": {},
   "outputs": [
    {
     "name": "stdout",
     "output_type": "stream",
     "text": [
      "[1, 2, 2, 1]\n"
     ]
    }
   ],
   "source": [
    "l = [1,2,1,2,1]\n",
    "del l[2]\n",
    "print(l)"
   ]
  },
  {
   "cell_type": "code",
   "execution_count": 35,
   "metadata": {},
   "outputs": [
    {
     "name": "stdout",
     "output_type": "stream",
     "text": [
      "[1, 1, 2, 1]\n"
     ]
    }
   ],
   "source": [
    "k = [1,2,1,2,1]\n",
    "k.remove(2)\n",
    "print(k)"
   ]
  },
  {
   "cell_type": "markdown",
   "metadata": {},
   "source": [
    "## Немного про строки:"
   ]
  },
  {
   "cell_type": "markdown",
   "metadata": {},
   "source": [
    "у строк есть тоже много методов -- см. [документацию](https://docs.python.org/3/library/stdtypes.html#string-methods)\n",
    "\n",
    "Все учить наизусть ~~необязательно~~ (но придется рано или поздно)."
   ]
  },
  {
   "cell_type": "markdown",
   "metadata": {},
   "source": [
    "Из важного, разделение строки на пробелы:"
   ]
  },
  {
   "cell_type": "code",
   "execution_count": 47,
   "metadata": {},
   "outputs": [
    {
     "name": "stdout",
     "output_type": "stream",
     "text": [
      "['Мама', 'мыла', 'раму']\n"
     ]
    }
   ],
   "source": [
    "s = \"Мама мыла раму\"\n",
    "print(s.split(\" \"))"
   ]
  },
  {
   "cell_type": "markdown",
   "metadata": {},
   "source": [
    "\"Обрезание лишних символов\" по краям строки:"
   ]
  },
  {
   "cell_type": "code",
   "execution_count": 48,
   "metadata": {},
   "outputs": [],
   "source": [
    "s2 = 'Мама,,, мыла? раму!'"
   ]
  },
  {
   "cell_type": "code",
   "execution_count": 49,
   "metadata": {},
   "outputs": [
    {
     "name": "stdout",
     "output_type": "stream",
     "text": [
      "Мама\n",
      "мыла\n",
      "раму\n"
     ]
    }
   ],
   "source": [
    "for word in s2.split():\n",
    "    print(word.strip(\",!?\"))"
   ]
  },
  {
   "cell_type": "markdown",
   "metadata": {},
   "source": [
    "Вот так можно удалить пробелы из строки:"
   ]
  },
  {
   "cell_type": "code",
   "execution_count": 50,
   "metadata": {},
   "outputs": [
    {
     "data": {
      "text/plain": [
       "'Мамамылараму'"
      ]
     },
     "execution_count": 50,
     "metadata": {},
     "output_type": "execute_result"
    }
   ],
   "source": [
    "s.replace(' ', '')"
   ]
  },
  {
   "cell_type": "markdown",
   "metadata": {},
   "source": [
    "### Эту магию вы можете изучить дома, если дожили до конца:"
   ]
  },
  {
   "cell_type": "code",
   "execution_count": 51,
   "metadata": {},
   "outputs": [
    {
     "name": "stdout",
     "output_type": "stream",
     "text": [
      "[1, 2, 3] [1, 2, 3]\n"
     ]
    }
   ],
   "source": [
    "f = [1,2,3]\n",
    "s = f\n",
    "print(f, s)"
   ]
  },
  {
   "cell_type": "code",
   "execution_count": 52,
   "metadata": {},
   "outputs": [
    {
     "name": "stdout",
     "output_type": "stream",
     "text": [
      "[1, 100, 3] [1, 100, 3]\n"
     ]
    }
   ],
   "source": [
    "s[1] = 100\n",
    "print(f, s)"
   ]
  },
  {
   "cell_type": "markdown",
   "metadata": {},
   "source": [
    "Ух ты!!! Мы НЕ КОПИРУЕМ списки, а создаем синоним -- другое имя для того же объекта в памяти.\n",
    "\n",
    "Проблема разрешается созданием нового списка с тем же содержанием."
   ]
  },
  {
   "cell_type": "code",
   "execution_count": 54,
   "metadata": {},
   "outputs": [
    {
     "name": "stdout",
     "output_type": "stream",
     "text": [
      "[1, 2, 3] [1, 2, 3]\n"
     ]
    }
   ],
   "source": [
    "f = [1,2,3]\n",
    "s = [i for i in f]\n",
    "print(f, s)"
   ]
  },
  {
   "cell_type": "code",
   "execution_count": 55,
   "metadata": {},
   "outputs": [
    {
     "name": "stdout",
     "output_type": "stream",
     "text": [
      "[1, 2, 3] [1, 100, 3]\n"
     ]
    }
   ],
   "source": [
    "s[1] = 100\n",
    "print(f, s)"
   ]
  },
  {
   "cell_type": "markdown",
   "metadata": {},
   "source": [
    "### Немного практики:"
   ]
  },
  {
   "cell_type": "markdown",
   "metadata": {},
   "source": [
    "Дана матрица `matrix`. Теперь давайте её красиво распечатаем, используя вложенные циклы:"
   ]
  },
  {
   "cell_type": "code",
   "execution_count": 77,
   "metadata": {},
   "outputs": [],
   "source": [
    "matrix = [[1, 2, 3], [4, 5, 6], [7, 8, 9]]"
   ]
  },
  {
   "cell_type": "code",
   "execution_count": 78,
   "metadata": {},
   "outputs": [
    {
     "name": "stdout",
     "output_type": "stream",
     "text": [
      "1 2 3 \n",
      "4 5 6 \n",
      "7 8 9 \n"
     ]
    }
   ],
   "source": [
    "for i in range(len(matrix)):\n",
    "    for j in range(len(matrix[i])):\n",
    "        print(matrix[i][j], end=' ')\n",
    "    print()"
   ]
  },
  {
   "cell_type": "markdown",
   "metadata": {},
   "source": [
    "Задание для самых любознательных \n",
    "\n",
    "*не оценивается, но вы почувствуете себя максимально классными, если у вас это получится, гарантирую :-)*"
   ]
  },
  {
   "cell_type": "markdown",
   "metadata": {},
   "source": [
    "1. Написать программу, которая по заданному n выводит \"левостороннюю пирамидку\""
   ]
  },
  {
   "cell_type": "code",
   "execution_count": 83,
   "metadata": {},
   "outputs": [
    {
     "name": "stdout",
     "output_type": "stream",
     "text": [
      "* \n",
      "* * \n",
      "* * * \n",
      "* * * * \n",
      "* * * * * \n",
      "* * * * * * \n",
      "* * * * * * * \n",
      "* * * * * * * * \n",
      "* * * * * * * * * \n",
      "* * * * * * * * * * \n"
     ]
    }
   ],
   "source": [
    "n = 10\n",
    "\n",
    "# your code here\n",
    "for ???:\n",
    "    for ???:\n",
    "        print ???\n",
    "    print()"
   ]
  },
  {
   "cell_type": "markdown",
   "metadata": {},
   "source": [
    "2. Написать программу, которая по заданному n выдает \"правостороннюю пирамидку\""
   ]
  },
  {
   "cell_type": "code",
   "execution_count": 91,
   "metadata": {},
   "outputs": [
    {
     "name": "stdout",
     "output_type": "stream",
     "text": [
      "                  * \n",
      "                * * \n",
      "              * * * \n",
      "            * * * * \n",
      "          * * * * * \n",
      "        * * * * * * \n",
      "      * * * * * * * \n",
      "    * * * * * * * * \n",
      "  * * * * * * * * * \n",
      "* * * * * * * * * * \n"
     ]
    }
   ],
   "source": [
    "n = 10\n",
    "for ???:\n",
    "    for ???:\n",
    "        ???,\n",
    "    for ???:\n",
    "        ???,\n",
    "    print()"
   ]
  },
  {
   "cell_type": "markdown",
   "metadata": {},
   "source": [
    "Можно попробовать напечатать \"перевернутую левостороннюю пирамидку\", \"перевернутую правостороннюю пирамидку\"..."
   ]
  },
  {
   "cell_type": "markdown",
   "metadata": {},
   "source": [
    "# Домашнее задание\n",
    "\n",
    "... в этот раз у вас будет сдаваться **через телеграм бот SEMiCODE**, как и тест. \n",
    "\n",
    "**Дедлайн: 15 ноября 23:59**\n",
    "\n",
    "Когда вы зайдете в бот, ваш разговор с ботом будет выглядеть примерно так:\n",
    "\n",
    "- /start\n",
    "- Давайте знакомиться! Из какой вы группы? [кнопочки]\n",
    "- БКЛ 201\n",
    "- [Выбираете как вас зовут, если не находите себя в списке, пишите мне в личку, чтобы я это исправила]\n",
    "- Отправьте мне ваш логин на github.com\n",
    "- [Пишите свой логин на гитхабе]\n",
    "- Привет! Выбирайте, что делать: [кнопочки]\n",
    "- Загрузить домашку\n",
    "- [Выбираете, решение какой задачи сначала загружать и загружаете файл с расширением .py]\n",
    "- [Бот немножко думает, а потом делает ссылку на **пул-реквест**. Пул-реквест - это такая волшебная штука, которая поможет нам комментировать ваш код. Будет и ваш загруженный код с решением задачи, и наш фидбек. Задачи загружаются по отдельности и комментарии тоже идут к ним отдельно. Если вашей задаче требуется доработка, мы будем ставить в пул-реквесте тег needwork и у вас это будет отображаться в боте, какие задачи приняты преподавателем,ассистентом, а каким требуется доработка. В идеале так у нас с вами появится общение. Мы постараемся отвечать вам в пул-реквестах до дедлайна, но со следующей домашки, а не с этой. Пока мы вместе учимся общаться над задачами через пул-реквесты]\n",
    "\n",
    "Если на каком-то этапе общения с ботом возникают проблемы, пишите мне в телеграм."
   ]
  },
  {
   "cell_type": "code",
   "execution_count": null,
   "metadata": {},
   "outputs": [],
   "source": []
  }
 ],
 "metadata": {
  "kernelspec": {
   "display_name": "Python 3",
   "language": "python",
   "name": "python3"
  },
  "language_info": {
   "codemirror_mode": {
    "name": "ipython",
    "version": 3
   },
   "file_extension": ".py",
   "mimetype": "text/x-python",
   "name": "python",
   "nbconvert_exporter": "python",
   "pygments_lexer": "ipython3",
   "version": "3.6.6"
  }
 },
 "nbformat": 4,
 "nbformat_minor": 2
}
